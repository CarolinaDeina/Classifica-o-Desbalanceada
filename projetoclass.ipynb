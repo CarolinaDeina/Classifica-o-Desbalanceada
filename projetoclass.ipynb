{
 "cells": [
  {
   "cell_type": "code",
   "execution_count": 1,
   "metadata": {},
   "outputs": [
    {
     "name": "stderr",
     "output_type": "stream",
     "text": [
      "c:\\Users\\carol\\AppData\\Local\\Programs\\Python\\Python38\\lib\\site-packages\\tqdm\\auto.py:22: TqdmWarning: IProgress not found. Please update jupyter and ipywidgets. See https://ipywidgets.readthedocs.io/en/stable/user_install.html\n",
      "  from .autonotebook import tqdm as notebook_tqdm\n"
     ]
    }
   ],
   "source": [
    "#-------------------------------------------------------\n",
    "#  1 - BIBLIOTECAS\n",
    "#-------------------------------------------------------\n",
    "import pandas as pd\n",
    "import numpy as np\n",
    "import seaborn as sns\n",
    "#from sklearn import preprocessing\n",
    "from sklearn.preprocessing import StandardScaler, MinMaxScaler\n",
    "import sklearn.metrics \n",
    "from mlxtend.feature_selection import SequentialFeatureSelector as SFS\n",
    "from sklearn.neighbors import KNeighborsClassifier\n",
    "from sklearn.model_selection import StratifiedKFold, RepeatedStratifiedKFold\n",
    "\n",
    "from imblearn.under_sampling import RandomUnderSampler, InstanceHardnessThreshold\n",
    "from imblearn.over_sampling import RandomOverSampler, SMOTE\n",
    "import optuna\n",
    "\n",
    "import warnings\n",
    "warnings.filterwarnings(\"ignore\", category=DeprecationWarning)\n",
    "warnings.filterwarnings(\"ignore\", category=UserWarning)\n",
    "warnings.filterwarnings(\"ignore\", category=FutureWarning)\n",
    "\n",
    "\n",
    "\n",
    "\n",
    "\n",
    "\n",
    "\n",
    "from sklearn.neighbors import KNeighborsClassifier\n",
    "from sklearn.svm import SVC\n",
    "from sklearn.ensemble import RandomForestClassifier"
   ]
  },
  {
   "cell_type": "markdown",
   "metadata": {},
   "source": []
  },
  {
   "cell_type": "code",
   "execution_count": 2,
   "metadata": {},
   "outputs": [],
   "source": [
    "#-------------------------------------------------------\n",
    "#  2 - PLOTANDO DAS CLASSES PARA EVIDENCIAR AS PROPORÇÕES\n",
    "#-------------------------------------------------------\n",
    "\n",
    "def plot_classes_with_proportions(df, target_column):\n",
    "    # Crie o countplot\n",
    "    ax = sns.countplot(x=target_column, data=df)\n",
    "\n",
    "    # Calcule o número total de ocorrências\n",
    "    total_occurrences = len(df)\n",
    "\n",
    "    # Obtenha a contagem de ocorrências de cada classe\n",
    "    class_count = df[target_column].value_counts()\n",
    "\n",
    "    # Calcule as proporções em relação ao total de ocorrências de cada classe\n",
    "    proportions = class_count / total_occurrences * 100\n",
    "\n",
    "    # Exiba as proporções no gráfico\n",
    "    for i, p in enumerate(ax.patches):\n",
    "        height = p.get_height()\n",
    "        ax.text(p.get_x() + p.get_width() / 2, height + 0.5, f'{proportions[i]:.2f}%', ha='center')\n",
    "\n",
    "    # Verifique se a proporção do desbalanceamento é menor que 40% e retorne 'true' ou 'false'\n",
    "    if proportions.min() < proportionclass:\n",
    "        return True\n",
    "    else:\n",
    "        return False"
   ]
  },
  {
   "cell_type": "code",
   "execution_count": 3,
   "metadata": {},
   "outputs": [
    {
     "data": {
      "image/png": "[encoded data removed]",
      "text/plain": [
       "<Figure size 432x288 with 1 Axes>"
      ]
     },
     "metadata": {
      "needs_background": "light"
     },
     "output_type": "display_data"
    }
   ],
   "source": [
    "#-------------------------------------------------------\n",
    "# 3 - LEITURA DOS DADOS E ALGUNS PARÂMETROS DO CÓDIGO\n",
    "#-------------------------------------------------------\n",
    "#BASE DE DADOS:\n",
    "df = pd.read_csv(\"C:/Users/carol/Dropbox/UFRGS/python portfolio/df_pre_processado.csv\")\n",
    "#COLUNA DA BASE DE DADOS QUE CORRESPONDE A VARIÁVEL A SER PREVISTA:\n",
    "target_column = 'CLASSES'\n",
    "#TÉCNICA DE ESCALONAMENTO A SER UTILIZADA:\n",
    "#opções = 'min_max', 'z_score'\n",
    "scaling_method = 'min_max'\n",
    "#PROPORÇÃO (%) DE DESBALANCEAMENTO ENTRE AS CLASSES ACEITÁVEL PARA A NÃO APLICAÇÃO DE TÉCNICAS QUE REALIZAM O BALANCEAMENTO DOS DADOS\n",
    "proportionclass = 40\n",
    "# CASO OS DADOS ESTEJAM DESBALANCEADOS, imbalanced_classes IRÁ RETORNAR O PARÂMETRO 'true' QUE PERMITE QUE O CÓDGIO FAÇA O BALANCEAMENTO:\n",
    "#opções = 'true', 'false'\n",
    "imbalanced_classes = plot_classes_with_proportions(df, target_column)\n",
    "# CASO OS DADOS ESTEJAM DESBALANCEADOS, ESCOLHA A TÉCNICA PARA BALANCEAMENTO DOS DADOS:\n",
    "#opções = 'RandomUnderSampler', 'InstanceHardnessThreshold', 'RandomOverSampler', 'SMOTE'\n",
    "res_technique = 'InstanceHardnessThreshold'"
   ]
  },
  {
   "cell_type": "code",
   "execution_count": 4,
   "metadata": {},
   "outputs": [],
   "source": [
    "#-------------------------------------------------------\n",
    "# 4 - DIVISÃO DOS DADOS EM X E Y\n",
    "#-------------------------------------------------------\n",
    "\n",
    "def split_df_into_target_and_features(df, target_column):\n",
    "    df_y = df[target_column]\n",
    "    df_y= df_y.to_numpy()\n",
    "    df_x = df.drop(target_column, axis=1)\n",
    "    return df_x, df_y"
   ]
  },
  {
   "cell_type": "code",
   "execution_count": 5,
   "metadata": {},
   "outputs": [],
   "source": [
    "#---------------------------------------------------------\n",
    "# 5 - Escalonamento: NORMALIZAÇÃO ou PADRONIZAÇÃO\n",
    "#---------------------------------------------------------\n",
    "\n",
    "def scaling(df_x, scaling_method):\n",
    "    if scaling_method == 'min_max':\n",
    "        min_max_scaler = MinMaxScaler(feature_range=(0,1))\n",
    "        x_normalized = min_max_scaler.fit_transform(df_x)\n",
    "        return x_normalized\n",
    "    elif scaling_method == 'z_score':\n",
    "        z_scaler = StandardScaler()\n",
    "        x_normalized = z_scaler.fit_transform(df_x)\n",
    "        return z_scaler\n",
    "    else:\n",
    "        raise ValueError(\"Método de normalização não reconhecido. Use 'min_max' ou 'z_score'.\")   "
   ]
  },
  {
   "cell_type": "code",
   "execution_count": 6,
   "metadata": {},
   "outputs": [],
   "source": [
    "#---------------------------------------------------------\n",
    "# 6 - METRICAS DE AVALIAÇÃO DOS DADOS\n",
    "#---------------------------------------------------------\n",
    "# os dados de entrada são os dados reais de saída (y_true) e os dados previstos para as respectivas saídas (y_pred)\n",
    "def classification_metrics(y_true, y_pred):\n",
    "\n",
    "    # Calcula as métricas individualmente\n",
    "    acuracia = sklearn.metrics.accuracy_score(y_true, y_pred)\n",
    "    precisao = sklearn.metrics.precision_score(y_true, y_pred)\n",
    "    recall = sklearn.metrics.recall_score(y_true, y_pred)\n",
    "    f1_score = sklearn.metrics.f1_score(y_true, y_pred)\n",
    "    auc = sklearn.metrics.roc_auc_score(y_true, y_pred)\n",
    "    #retorna todas as métricas calculadas\n",
    "    return acuracia, precisao, recall, f1_score, auc"
   ]
  },
  {
   "cell_type": "code",
   "execution_count": 7,
   "metadata": {},
   "outputs": [],
   "source": [
    "#---------------------------------------------------------\n",
    "# 7 - BALANCEAMENTO DOS DADOS\n",
    "#---------------------------------------------------------\n",
    "def resampling(df_x, df_y, res_technique):\n",
    "    if res_technique == 'RandomUnderSampler':\n",
    "        balancer = RandomUnderSampler()\n",
    "    elif res_technique == 'InstanceHardnessThreshold':\n",
    "        balancer = InstanceHardnessThreshold()\n",
    "    elif res_technique == 'RandomOverSampler':\n",
    "        balancer = RandomOverSampler()\n",
    "    elif res_technique == 'SMOTE':\n",
    "        balancer = SMOTE()\n",
    "    else:\n",
    "        raise ValueError('Técnica de balanceamento não reconhecida.')\n",
    "    \n",
    "    balanced_x, balanced_y = balancer.fit_resample(df_x, df_y)\n",
    "    counts = np.bincount(balanced_y)\n",
    "    \n",
    "    return balanced_x, balanced_y"
   ]
  },
  {
   "cell_type": "code",
   "execution_count": 8,
   "metadata": {},
   "outputs": [],
   "source": [
    "#---------------------------------------------------------\n",
    "# 8 - BALANCEAMENTO DOS DADOS, se 'imbalanced_classes' for 'true'\n",
    "#---------------------------------------------------------\n",
    "\n",
    "# Função para resample dos dados caso 'imbalanced_classes' seja 'true'\n",
    "def resampling_if_imbalanced_classes_is_true(X_train, y_train, res_technique, imbalanced_classes):\n",
    "    if imbalanced_classes == True:\n",
    "        # Aplique a função criada anteriormente, de resampling tecnique, apenas no conjunto de treinamento do fold atual\n",
    "        balanced_x, balanced_y = resampling(X_train, y_train, res_technique)\n",
    "        return balanced_x, balanced_y\n",
    "    \n",
    "    else:\n",
    "        return X_train, y_train\n"
   ]
  },
  {
   "cell_type": "markdown",
   "metadata": {},
   "source": [
    "Optuna é uma biblioteca Python robusta e de código aberto desenvolvida para simplificar a otimização de hiperparâmetros no aprendizado de máquina. Ele oferece uma interface intuitiva para otimizar hiperparâmetros, permitindo que você explore com eficiência o vasto espaço de pesquisa e determine a configuração ideal para o seu modelo. A principal funcionalidade do Optuna reside em sua capacidade de procurar automaticamente os melhores hiperparâmetros através de vários algoritmos de otimização e estratégias de poda."
   ]
  },
  {
   "cell_type": "code",
   "execution_count": 9,
   "metadata": {},
   "outputs": [],
   "source": [
    "def objective_knn(trial, df_x, df_y):\n",
    "    n_neighbors = trial.suggest_int('n_neighbors', 1, 15, step=2)\n",
    "    metric = trial.suggest_categorical('metric', ['euclidean', 'manhattan', 'minkowski'])\n",
    "\n",
    "    model = KNeighborsClassifier(n_neighbors=n_neighbors, metric=metric)\n",
    "\n",
    "    cv_scores = []\n",
    "    kf = StratifiedKFold(n_splits=5, shuffle=True, random_state=42)\n",
    "\n",
    "    for train_index, val_index in kf.split(df_x, df_y):\n",
    "        X_train_fold, X_val_fold = df_x[train_index], df_x[val_index]\n",
    "        y_train_fold, y_val_fold = df_y[train_index], df_y[val_index]\n",
    "        \n",
    "        # Aplicando a função criada anteriormente, de resampling tecnique if_imbalanced_classes_is_true, apenas no conjunto de treinamento do fold atual\n",
    "        returned_x, returned_y = resampling_if_imbalanced_classes_is_true(X_train_fold, y_train_fold, res_technique, imbalanced_classes)\n",
    "\n",
    "        # Criando o modelo KNN com os hiperparâmetros\n",
    "        model = KNeighborsClassifier(n_neighbors=n_neighbors, metric=metric)\n",
    "        # Treinando o modelo no conjunto de treinamento, após aplicar resampling_if_imbalanced_classes_is_true\n",
    "        model.fit(returned_x, returned_y)\n",
    "        # Avaliando o modelo no conjunto de validação atual\n",
    "        y_pred = model.predict(X_val_fold)\n",
    "\n",
    "        # Calculando a métrica de avaliação (AUC) para este fold, (observe que eu deixei a métrica hardcodada nessa parte do código, é possível deixar isso mais flexível)\n",
    "        f1 = sklearn.metrics.f1_score(y_val_fold, y_pred)\n",
    "        # Armazene a métrica no fold atual\n",
    "        cv_scores.append(f1)\n",
    "    # Calcule a média das métricas de validação cruzada\n",
    "    avg_cv_score = np.mean(cv_scores)\n",
    "\n",
    "    return avg_cv_score\n",
    "\n",
    "\n",
    "# def objective_svm(trial, df_x, df_y):\n",
    "#     C = trial.suggest_loguniform('C', 0.1, 10)\n",
    "#     kernel = trial.suggest_categorical('kernel', ['linear', 'rbf', 'poly', 'sigmoid'])\n",
    "\n",
    "#     model = SVC(C=C, kernel=kernel)\n",
    "\n",
    "#     cv_scores = []\n",
    "#     kf = StratifiedKFold(n_splits=5, shuffle=True, random_state=42)\n",
    "\n",
    "#     for train_index, val_index in kf.split(df_x, df_y):\n",
    "#         X_train_fold, X_val_fold = df_x[train_index], df_x[val_index]\n",
    "#         y_train_fold, y_val_fold = df_y[train_index], df_y[val_index]\n",
    "\n",
    "#         model.fit(X_train_fold, y_train_fold)\n",
    "#         y_pred = model.predict(X_val_fold)\n",
    "\n",
    "#         f1 = sklearn.metrics.f1_score(y_val_fold, y_pred)\n",
    "#         cv_scores.append(f1)\n",
    "\n",
    "#     avg_cv_score = np.mean(cv_scores)\n",
    "\n",
    "#     return avg_cv_score\n",
    "\n",
    "\n",
    "# def objective_randomforest(trial, df_x, df_y):\n",
    "#     n_estimators = trial.suggest_int('n_estimators', 10, 100, step=10)\n",
    "#     max_depth = trial.suggest_int('max_depth', 3, 10)\n",
    "#     min_samples_split = trial.suggest_int('min_samples_split', 2, 10)\n",
    "\n",
    "#     model = RandomForestClassifier(n_estimators=n_estimators, max_depth=max_depth, min_samples_split=min_samples_split)\n",
    "\n",
    "#     cv_scores = []\n",
    "#     kf = StratifiedKFold(n_splits=5, shuffle=True, random_state=42)\n",
    "\n",
    "#     for train_index, val_index in kf.split(df_x, df_y):\n",
    "#         X_train_fold, X_val_fold = df_x[train_index], df_x[val_index]\n",
    "#         y_train_fold, y_val_fold = df_y[train_index], df_y[val_index]\n",
    "\n",
    "#         model.fit(X_train_fold, y_train_fold)\n",
    "#         y_pred = model.predict(X_val_fold)\n",
    "\n",
    "#         f1 = sklearn.metrics.f1_score(y_val_fold, y_pred)\n",
    "#         cv_scores.append(f1)\n",
    "\n",
    "#     avg_cv_score = np.mean(cv_scores)\n",
    "\n",
    "#     return avg_cv_score\n"
   ]
  },
  {
   "cell_type": "code",
   "execution_count": 10,
   "metadata": {},
   "outputs": [],
   "source": [
    "def optimize_hyperparameters(df_x, df_y, model_type, n_trials):\n",
    "    if model_type == 'KNN':\n",
    "        objective = objective_knn\n",
    "    elif model_type == 'SVM':\n",
    "        objective = objective_svm\n",
    "    elif model_type == 'RandomForest':\n",
    "        objective = objective_randomforest\n",
    "    #estudo Optuna com uma estratégia de poda\n",
    "    study = optuna.create_study(direction='maximize', pruner=optuna.pruners.MedianPruner())\n",
    "    study.optimize(lambda trial: objective(trial, df_x, df_y), n_trials=n_trials)\n",
    "\n",
    "    best_params = study.best_params\n",
    "\n",
    "    return best_params"
   ]
  },
  {
   "cell_type": "code",
   "execution_count": 11,
   "metadata": {},
   "outputs": [],
   "source": [
    "#aplicando as funções criadas anteriormente, primeiro para dividir o df em x(variáveis independentes) e y(variável dependente), e depois aplicando a função de escalonamento dos dados\n",
    "df_x, df_y = split_df_into_target_and_features(df, target_column)\n",
    "df_x = scaling(df_x, scaling_method)"
   ]
  },
  {
   "cell_type": "code",
   "execution_count": 12,
   "metadata": {},
   "outputs": [
    {
     "name": "stderr",
     "output_type": "stream",
     "text": [
      "\u001b[32m[I 2024-03-04 10:34:41,814]\u001b[0m A new study created in memory with name: no-name-d9dcdea2-515e-48e4-a916-975ce34ad91b\u001b[0m\n",
      "\u001b[32m[I 2024-03-04 10:34:44,808]\u001b[0m Trial 0 finished with value: 0.3713501209275857 and parameters: {'n_neighbors': 1, 'metric': 'minkowski'}. Best is trial 0 with value: 0.3713501209275857.\u001b[0m\n",
      "\u001b[32m[I 2024-03-04 10:34:47,569]\u001b[0m Trial 1 finished with value: 0.3534844734844734 and parameters: {'n_neighbors': 1, 'metric': 'euclidean'}. Best is trial 0 with value: 0.3713501209275857.\u001b[0m\n",
      "\u001b[32m[I 2024-03-04 10:34:50,312]\u001b[0m Trial 2 finished with value: 0.4029450522595684 and parameters: {'n_neighbors': 5, 'metric': 'minkowski'}. Best is trial 2 with value: 0.4029450522595684.\u001b[0m\n",
      "\u001b[32m[I 2024-03-04 10:34:52,874]\u001b[0m Trial 3 finished with value: 0.3729896108965195 and parameters: {'n_neighbors': 11, 'metric': 'euclidean'}. Best is trial 2 with value: 0.4029450522595684.\u001b[0m\n",
      "\u001b[32m[I 2024-03-04 10:34:55,440]\u001b[0m Trial 4 finished with value: 0.3719571948998178 and parameters: {'n_neighbors': 11, 'metric': 'euclidean'}. Best is trial 2 with value: 0.4029450522595684.\u001b[0m\n",
      "\u001b[32m[I 2024-03-04 10:34:58,006]\u001b[0m Trial 5 finished with value: 0.3768863574517655 and parameters: {'n_neighbors': 9, 'metric': 'manhattan'}. Best is trial 2 with value: 0.4029450522595684.\u001b[0m\n",
      "\u001b[32m[I 2024-03-04 10:35:00,572]\u001b[0m Trial 6 finished with value: 0.38672597464654135 and parameters: {'n_neighbors': 9, 'metric': 'minkowski'}. Best is trial 2 with value: 0.4029450522595684.\u001b[0m\n",
      "\u001b[32m[I 2024-03-04 10:35:03,156]\u001b[0m Trial 7 finished with value: 0.3825577893412828 and parameters: {'n_neighbors': 13, 'metric': 'minkowski'}. Best is trial 2 with value: 0.4029450522595684.\u001b[0m\n",
      "\u001b[32m[I 2024-03-04 10:35:05,689]\u001b[0m Trial 8 finished with value: 0.3455089595646871 and parameters: {'n_neighbors': 5, 'metric': 'manhattan'}. Best is trial 2 with value: 0.4029450522595684.\u001b[0m\n",
      "\u001b[32m[I 2024-03-04 10:35:08,223]\u001b[0m Trial 9 finished with value: 0.3859620315155705 and parameters: {'n_neighbors': 7, 'metric': 'euclidean'}. Best is trial 2 with value: 0.4029450522595684.\u001b[0m\n",
      "\u001b[32m[I 2024-03-04 10:35:10,872]\u001b[0m Trial 10 finished with value: 0.3798001998001998 and parameters: {'n_neighbors': 5, 'metric': 'minkowski'}. Best is trial 2 with value: 0.4029450522595684.\u001b[0m\n",
      "\u001b[32m[I 2024-03-04 10:35:13,469]\u001b[0m Trial 11 finished with value: 0.346249243799153 and parameters: {'n_neighbors': 15, 'metric': 'minkowski'}. Best is trial 2 with value: 0.4029450522595684.\u001b[0m\n",
      "\u001b[32m[I 2024-03-04 10:35:16,039]\u001b[0m Trial 12 finished with value: 0.3982471669945702 and parameters: {'n_neighbors': 5, 'metric': 'minkowski'}. Best is trial 2 with value: 0.4029450522595684.\u001b[0m\n",
      "\u001b[32m[I 2024-03-04 10:35:18,589]\u001b[0m Trial 13 finished with value: 0.37699962733337095 and parameters: {'n_neighbors': 5, 'metric': 'minkowski'}. Best is trial 2 with value: 0.4029450522595684.\u001b[0m\n",
      "\u001b[32m[I 2024-03-04 10:35:21,106]\u001b[0m Trial 14 finished with value: 0.40820024560190077 and parameters: {'n_neighbors': 3, 'metric': 'minkowski'}. Best is trial 14 with value: 0.40820024560190077.\u001b[0m\n",
      "\u001b[32m[I 2024-03-04 10:35:23,670]\u001b[0m Trial 15 finished with value: 0.3879477305725649 and parameters: {'n_neighbors': 3, 'metric': 'minkowski'}. Best is trial 14 with value: 0.40820024560190077.\u001b[0m\n",
      "\u001b[32m[I 2024-03-04 10:35:26,240]\u001b[0m Trial 16 finished with value: 0.38225009265345294 and parameters: {'n_neighbors': 3, 'metric': 'manhattan'}. Best is trial 14 with value: 0.40820024560190077.\u001b[0m\n",
      "\u001b[32m[I 2024-03-04 10:35:28,806]\u001b[0m Trial 17 finished with value: 0.3877364729149284 and parameters: {'n_neighbors': 3, 'metric': 'minkowski'}. Best is trial 14 with value: 0.40820024560190077.\u001b[0m\n",
      "\u001b[32m[I 2024-03-04 10:35:31,373]\u001b[0m Trial 18 finished with value: 0.352320379211013 and parameters: {'n_neighbors': 1, 'metric': 'minkowski'}. Best is trial 14 with value: 0.40820024560190077.\u001b[0m\n",
      "\u001b[32m[I 2024-03-04 10:35:33,923]\u001b[0m Trial 19 finished with value: 0.391743224795227 and parameters: {'n_neighbors': 7, 'metric': 'manhattan'}. Best is trial 14 with value: 0.40820024560190077.\u001b[0m\n",
      "\u001b[32m[I 2024-03-04 10:35:36,507]\u001b[0m Trial 20 finished with value: 0.40649899366880493 and parameters: {'n_neighbors': 7, 'metric': 'minkowski'}. Best is trial 14 with value: 0.40820024560190077.\u001b[0m\n",
      "\u001b[32m[I 2024-03-04 10:35:39,090]\u001b[0m Trial 21 finished with value: 0.4112202453773288 and parameters: {'n_neighbors': 7, 'metric': 'minkowski'}. Best is trial 21 with value: 0.4112202453773288.\u001b[0m\n",
      "\u001b[32m[I 2024-03-04 10:35:41,677]\u001b[0m Trial 22 finished with value: 0.40501851281624146 and parameters: {'n_neighbors': 7, 'metric': 'minkowski'}. Best is trial 21 with value: 0.4112202453773288.\u001b[0m\n",
      "\u001b[32m[I 2024-03-04 10:35:44,274]\u001b[0m Trial 23 finished with value: 0.3888673184195572 and parameters: {'n_neighbors': 9, 'metric': 'minkowski'}. Best is trial 21 with value: 0.4112202453773288.\u001b[0m\n",
      "\u001b[32m[I 2024-03-04 10:35:47,040]\u001b[0m Trial 24 finished with value: 0.36826266870384516 and parameters: {'n_neighbors': 11, 'metric': 'minkowski'}. Best is trial 21 with value: 0.4112202453773288.\u001b[0m\n",
      "\u001b[32m[I 2024-03-04 10:35:49,644]\u001b[0m Trial 25 finished with value: 0.3829406130268199 and parameters: {'n_neighbors': 7, 'metric': 'minkowski'}. Best is trial 21 with value: 0.4112202453773288.\u001b[0m\n",
      "\u001b[32m[I 2024-03-04 10:35:52,327]\u001b[0m Trial 26 finished with value: 0.3849319173176289 and parameters: {'n_neighbors': 3, 'metric': 'minkowski'}. Best is trial 21 with value: 0.4112202453773288.\u001b[0m\n",
      "\u001b[32m[I 2024-03-04 10:35:54,924]\u001b[0m Trial 27 finished with value: 0.37634289390234243 and parameters: {'n_neighbors': 9, 'metric': 'minkowski'}. Best is trial 21 with value: 0.4112202453773288.\u001b[0m\n",
      "\u001b[32m[I 2024-03-04 10:35:57,574]\u001b[0m Trial 28 finished with value: 0.3975281036168133 and parameters: {'n_neighbors': 7, 'metric': 'euclidean'}. Best is trial 21 with value: 0.4112202453773288.\u001b[0m\n",
      "\u001b[32m[I 2024-03-04 10:36:00,172]\u001b[0m Trial 29 finished with value: 0.3386559565017337 and parameters: {'n_neighbors': 1, 'metric': 'manhattan'}. Best is trial 21 with value: 0.4112202453773288.\u001b[0m\n",
      "\u001b[32m[I 2024-03-04 10:36:02,761]\u001b[0m Trial 30 finished with value: 0.37685273227220434 and parameters: {'n_neighbors': 13, 'metric': 'minkowski'}. Best is trial 21 with value: 0.4112202453773288.\u001b[0m\n",
      "\u001b[32m[I 2024-03-04 10:36:05,341]\u001b[0m Trial 31 finished with value: 0.3986958919216984 and parameters: {'n_neighbors': 7, 'metric': 'minkowski'}. Best is trial 21 with value: 0.4112202453773288.\u001b[0m\n",
      "\u001b[32m[I 2024-03-04 10:36:07,926]\u001b[0m Trial 32 finished with value: 0.42220317646129757 and parameters: {'n_neighbors': 7, 'metric': 'minkowski'}. Best is trial 32 with value: 0.42220317646129757.\u001b[0m\n",
      "\u001b[32m[I 2024-03-04 10:36:10,508]\u001b[0m Trial 33 finished with value: 0.38978922716627634 and parameters: {'n_neighbors': 5, 'metric': 'minkowski'}. Best is trial 32 with value: 0.42220317646129757.\u001b[0m\n",
      "\u001b[32m[I 2024-03-04 10:36:13,090]\u001b[0m Trial 34 finished with value: 0.36667968444895727 and parameters: {'n_neighbors': 9, 'metric': 'minkowski'}. Best is trial 32 with value: 0.42220317646129757.\u001b[0m\n",
      "\u001b[32m[I 2024-03-04 10:36:15,689]\u001b[0m Trial 35 finished with value: 0.37583554846712736 and parameters: {'n_neighbors': 11, 'metric': 'euclidean'}. Best is trial 32 with value: 0.42220317646129757.\u001b[0m\n",
      "\u001b[32m[I 2024-03-04 10:36:18,224]\u001b[0m Trial 36 finished with value: 0.39912813654192963 and parameters: {'n_neighbors': 3, 'metric': 'minkowski'}. Best is trial 32 with value: 0.42220317646129757.\u001b[0m\n",
      "\u001b[32m[I 2024-03-04 10:36:20,790]\u001b[0m Trial 37 finished with value: 0.40596068479543057 and parameters: {'n_neighbors': 5, 'metric': 'minkowski'}. Best is trial 32 with value: 0.42220317646129757.\u001b[0m\n",
      "\u001b[32m[I 2024-03-04 10:36:23,373]\u001b[0m Trial 38 finished with value: 0.38569455676758935 and parameters: {'n_neighbors': 9, 'metric': 'euclidean'}. Best is trial 32 with value: 0.42220317646129757.\u001b[0m\n",
      "\u001b[32m[I 2024-03-04 10:36:25,944]\u001b[0m Trial 39 finished with value: 0.3853440060887879 and parameters: {'n_neighbors': 7, 'metric': 'minkowski'}. Best is trial 32 with value: 0.42220317646129757.\u001b[0m\n",
      "\u001b[32m[I 2024-03-04 10:36:28,489]\u001b[0m Trial 40 finished with value: 0.3797474922172258 and parameters: {'n_neighbors': 11, 'metric': 'manhattan'}. Best is trial 32 with value: 0.42220317646129757.\u001b[0m\n",
      "\u001b[32m[I 2024-03-04 10:36:31,126]\u001b[0m Trial 41 finished with value: 0.3849164106889943 and parameters: {'n_neighbors': 5, 'metric': 'minkowski'}. Best is trial 32 with value: 0.42220317646129757.\u001b[0m\n",
      "\u001b[32m[I 2024-03-04 10:36:33,707]\u001b[0m Trial 42 finished with value: 0.3830540158409011 and parameters: {'n_neighbors': 5, 'metric': 'minkowski'}. Best is trial 32 with value: 0.42220317646129757.\u001b[0m\n",
      "\u001b[32m[I 2024-03-04 10:36:36,257]\u001b[0m Trial 43 finished with value: 0.3798500415067661 and parameters: {'n_neighbors': 7, 'metric': 'minkowski'}. Best is trial 32 with value: 0.42220317646129757.\u001b[0m\n",
      "\u001b[32m[I 2024-03-04 10:36:38,907]\u001b[0m Trial 44 finished with value: 0.3725588464587305 and parameters: {'n_neighbors': 1, 'metric': 'minkowski'}. Best is trial 32 with value: 0.42220317646129757.\u001b[0m\n",
      "\u001b[32m[I 2024-03-04 10:36:41,457]\u001b[0m Trial 45 finished with value: 0.3799690176781484 and parameters: {'n_neighbors': 5, 'metric': 'minkowski'}. Best is trial 32 with value: 0.42220317646129757.\u001b[0m\n",
      "\u001b[32m[I 2024-03-04 10:36:44,042]\u001b[0m Trial 46 finished with value: 0.3935910921160413 and parameters: {'n_neighbors': 3, 'metric': 'minkowski'}. Best is trial 32 with value: 0.42220317646129757.\u001b[0m\n",
      "\u001b[32m[I 2024-03-04 10:36:46,637]\u001b[0m Trial 47 finished with value: 0.3734998670080487 and parameters: {'n_neighbors': 5, 'metric': 'euclidean'}. Best is trial 32 with value: 0.42220317646129757.\u001b[0m\n",
      "\u001b[32m[I 2024-03-04 10:36:49,295]\u001b[0m Trial 48 finished with value: 0.3848395282878042 and parameters: {'n_neighbors': 7, 'metric': 'minkowski'}. Best is trial 32 with value: 0.42220317646129757.\u001b[0m\n",
      "\u001b[32m[I 2024-03-04 10:36:51,880]\u001b[0m Trial 49 finished with value: 0.3825117683479243 and parameters: {'n_neighbors': 5, 'metric': 'minkowski'}. Best is trial 32 with value: 0.42220317646129757.\u001b[0m\n",
      "\u001b[32m[I 2024-03-04 10:36:54,444]\u001b[0m Trial 50 finished with value: 0.3785770750988142 and parameters: {'n_neighbors': 3, 'metric': 'manhattan'}. Best is trial 32 with value: 0.42220317646129757.\u001b[0m\n",
      "\u001b[32m[I 2024-03-04 10:36:57,028]\u001b[0m Trial 51 finished with value: 0.38254124346046436 and parameters: {'n_neighbors': 7, 'metric': 'minkowski'}. Best is trial 32 with value: 0.42220317646129757.\u001b[0m\n",
      "\u001b[32m[I 2024-03-04 10:36:59,574]\u001b[0m Trial 52 finished with value: 0.38391841554435535 and parameters: {'n_neighbors': 9, 'metric': 'minkowski'}. Best is trial 32 with value: 0.42220317646129757.\u001b[0m\n",
      "\u001b[32m[I 2024-03-04 10:37:02,179]\u001b[0m Trial 53 finished with value: 0.38731212157523953 and parameters: {'n_neighbors': 7, 'metric': 'minkowski'}. Best is trial 32 with value: 0.42220317646129757.\u001b[0m\n",
      "\u001b[32m[I 2024-03-04 10:37:04,808]\u001b[0m Trial 54 finished with value: 0.39584185305536856 and parameters: {'n_neighbors': 5, 'metric': 'minkowski'}. Best is trial 32 with value: 0.42220317646129757.\u001b[0m\n",
      "\u001b[32m[I 2024-03-04 10:37:07,413]\u001b[0m Trial 55 finished with value: 0.3926690795543254 and parameters: {'n_neighbors': 7, 'metric': 'minkowski'}. Best is trial 32 with value: 0.42220317646129757.\u001b[0m\n",
      "\u001b[32m[I 2024-03-04 10:37:09,996]\u001b[0m Trial 56 finished with value: 0.3885388040913254 and parameters: {'n_neighbors': 9, 'metric': 'minkowski'}. Best is trial 32 with value: 0.42220317646129757.\u001b[0m\n",
      "\u001b[32m[I 2024-03-04 10:37:12,579]\u001b[0m Trial 57 finished with value: 0.3926764070925297 and parameters: {'n_neighbors': 7, 'metric': 'minkowski'}. Best is trial 32 with value: 0.42220317646129757.\u001b[0m\n",
      "\u001b[32m[I 2024-03-04 10:37:15,200]\u001b[0m Trial 58 finished with value: 0.40506732216477986 and parameters: {'n_neighbors': 3, 'metric': 'minkowski'}. Best is trial 32 with value: 0.42220317646129757.\u001b[0m\n",
      "\u001b[32m[I 2024-03-04 10:37:17,976]\u001b[0m Trial 59 finished with value: 0.39118619852471814 and parameters: {'n_neighbors': 3, 'metric': 'minkowski'}. Best is trial 32 with value: 0.42220317646129757.\u001b[0m\n",
      "\u001b[32m[I 2024-03-04 10:37:20,685]\u001b[0m Trial 60 finished with value: 0.3685883778730302 and parameters: {'n_neighbors': 1, 'metric': 'euclidean'}. Best is trial 32 with value: 0.42220317646129757.\u001b[0m\n",
      "\u001b[32m[I 2024-03-04 10:37:23,292]\u001b[0m Trial 61 finished with value: 0.3774872127501854 and parameters: {'n_neighbors': 3, 'metric': 'minkowski'}. Best is trial 32 with value: 0.42220317646129757.\u001b[0m\n",
      "\u001b[32m[I 2024-03-04 10:37:25,875]\u001b[0m Trial 62 finished with value: 0.4060245641000152 and parameters: {'n_neighbors': 5, 'metric': 'minkowski'}. Best is trial 32 with value: 0.42220317646129757.\u001b[0m\n",
      "\u001b[32m[I 2024-03-04 10:37:28,510]\u001b[0m Trial 63 finished with value: 0.3947771125602352 and parameters: {'n_neighbors': 3, 'metric': 'minkowski'}. Best is trial 32 with value: 0.42220317646129757.\u001b[0m\n",
      "\u001b[32m[I 2024-03-04 10:37:31,027]\u001b[0m Trial 64 finished with value: 0.3933278410826521 and parameters: {'n_neighbors': 5, 'metric': 'minkowski'}. Best is trial 32 with value: 0.42220317646129757.\u001b[0m\n",
      "\u001b[32m[I 2024-03-04 10:37:33,547]\u001b[0m Trial 65 finished with value: 0.38962429233144613 and parameters: {'n_neighbors': 5, 'metric': 'minkowski'}. Best is trial 32 with value: 0.42220317646129757.\u001b[0m\n",
      "\u001b[32m[I 2024-03-04 10:37:36,211]\u001b[0m Trial 66 finished with value: 0.35527542977323623 and parameters: {'n_neighbors': 1, 'metric': 'manhattan'}. Best is trial 32 with value: 0.42220317646129757.\u001b[0m\n",
      "\u001b[32m[I 2024-03-04 10:37:38,727]\u001b[0m Trial 67 finished with value: 0.4064800393302382 and parameters: {'n_neighbors': 3, 'metric': 'minkowski'}. Best is trial 32 with value: 0.42220317646129757.\u001b[0m\n",
      "\u001b[32m[I 2024-03-04 10:37:41,327]\u001b[0m Trial 68 finished with value: 0.3812405214788769 and parameters: {'n_neighbors': 5, 'metric': 'minkowski'}. Best is trial 32 with value: 0.42220317646129757.\u001b[0m\n",
      "\u001b[32m[I 2024-03-04 10:37:43,944]\u001b[0m Trial 69 finished with value: 0.3852799191218418 and parameters: {'n_neighbors': 3, 'metric': 'minkowski'}. Best is trial 32 with value: 0.42220317646129757.\u001b[0m\n",
      "\u001b[32m[I 2024-03-04 10:37:46,713]\u001b[0m Trial 70 finished with value: 0.38271062271062267 and parameters: {'n_neighbors': 7, 'metric': 'minkowski'}. Best is trial 32 with value: 0.42220317646129757.\u001b[0m\n",
      "\u001b[32m[I 2024-03-04 10:37:49,381]\u001b[0m Trial 71 finished with value: 0.38352836925643097 and parameters: {'n_neighbors': 3, 'metric': 'minkowski'}. Best is trial 32 with value: 0.42220317646129757.\u001b[0m\n",
      "\u001b[32m[I 2024-03-04 10:37:52,127]\u001b[0m Trial 72 finished with value: 0.39636363636363636 and parameters: {'n_neighbors': 3, 'metric': 'minkowski'}. Best is trial 32 with value: 0.42220317646129757.\u001b[0m\n",
      "\u001b[32m[I 2024-03-04 10:37:54,914]\u001b[0m Trial 73 finished with value: 0.35951214494519096 and parameters: {'n_neighbors': 1, 'metric': 'minkowski'}. Best is trial 32 with value: 0.42220317646129757.\u001b[0m\n",
      "\u001b[32m[I 2024-03-04 10:37:57,862]\u001b[0m Trial 74 finished with value: 0.37593005068504 and parameters: {'n_neighbors': 5, 'metric': 'minkowski'}. Best is trial 32 with value: 0.42220317646129757.\u001b[0m\n",
      "\u001b[32m[I 2024-03-04 10:38:01,475]\u001b[0m Trial 75 finished with value: 0.317032967032967 and parameters: {'n_neighbors': 15, 'metric': 'minkowski'}. Best is trial 32 with value: 0.42220317646129757.\u001b[0m\n",
      "\u001b[32m[I 2024-03-04 10:38:05,075]\u001b[0m Trial 76 finished with value: 0.39405039974929873 and parameters: {'n_neighbors': 5, 'metric': 'minkowski'}. Best is trial 32 with value: 0.42220317646129757.\u001b[0m\n",
      "\u001b[32m[I 2024-03-04 10:38:07,828]\u001b[0m Trial 77 finished with value: 0.3941633103891363 and parameters: {'n_neighbors': 3, 'metric': 'euclidean'}. Best is trial 32 with value: 0.42220317646129757.\u001b[0m\n",
      "\u001b[32m[I 2024-03-04 10:38:10,795]\u001b[0m Trial 78 finished with value: 0.3870710804397012 and parameters: {'n_neighbors': 5, 'metric': 'minkowski'}. Best is trial 32 with value: 0.42220317646129757.\u001b[0m\n",
      "\u001b[32m[I 2024-03-04 10:38:13,607]\u001b[0m Trial 79 finished with value: 0.3625789965108851 and parameters: {'n_neighbors': 9, 'metric': 'manhattan'}. Best is trial 32 with value: 0.42220317646129757.\u001b[0m\n",
      "\u001b[32m[I 2024-03-04 10:38:16,479]\u001b[0m Trial 80 finished with value: 0.39626809971637555 and parameters: {'n_neighbors': 7, 'metric': 'minkowski'}. Best is trial 32 with value: 0.42220317646129757.\u001b[0m\n",
      "\u001b[32m[I 2024-03-04 10:38:19,344]\u001b[0m Trial 81 finished with value: 0.38683525070370506 and parameters: {'n_neighbors': 7, 'metric': 'minkowski'}. Best is trial 32 with value: 0.42220317646129757.\u001b[0m\n",
      "\u001b[32m[I 2024-03-04 10:38:22,099]\u001b[0m Trial 82 finished with value: 0.40557806126933854 and parameters: {'n_neighbors': 7, 'metric': 'minkowski'}. Best is trial 32 with value: 0.42220317646129757.\u001b[0m\n",
      "\u001b[32m[I 2024-03-04 10:38:24,877]\u001b[0m Trial 83 finished with value: 0.36394792781889557 and parameters: {'n_neighbors': 9, 'metric': 'minkowski'}. Best is trial 32 with value: 0.42220317646129757.\u001b[0m\n",
      "\u001b[32m[I 2024-03-04 10:38:27,797]\u001b[0m Trial 84 finished with value: 0.3854589704734353 and parameters: {'n_neighbors': 7, 'metric': 'minkowski'}. Best is trial 32 with value: 0.42220317646129757.\u001b[0m\n",
      "\u001b[32m[I 2024-03-04 10:38:30,798]\u001b[0m Trial 85 finished with value: 0.39619879498610844 and parameters: {'n_neighbors': 7, 'metric': 'minkowski'}. Best is trial 32 with value: 0.42220317646129757.\u001b[0m\n",
      "\u001b[32m[I 2024-03-04 10:38:34,050]\u001b[0m Trial 86 finished with value: 0.40020899591094955 and parameters: {'n_neighbors': 3, 'metric': 'minkowski'}. Best is trial 32 with value: 0.42220317646129757.\u001b[0m\n",
      "\u001b[32m[I 2024-03-04 10:38:38,650]\u001b[0m Trial 87 finished with value: 0.3950436506005988 and parameters: {'n_neighbors': 5, 'metric': 'minkowski'}. Best is trial 32 with value: 0.42220317646129757.\u001b[0m\n",
      "\u001b[32m[I 2024-03-04 10:38:41,632]\u001b[0m Trial 88 finished with value: 0.3648435957378594 and parameters: {'n_neighbors': 9, 'metric': 'minkowski'}. Best is trial 32 with value: 0.42220317646129757.\u001b[0m\n",
      "\u001b[32m[I 2024-03-04 10:38:44,813]\u001b[0m Trial 89 finished with value: 0.387336432387428 and parameters: {'n_neighbors': 7, 'metric': 'minkowski'}. Best is trial 32 with value: 0.42220317646129757.\u001b[0m\n",
      "\u001b[32m[I 2024-03-04 10:38:47,629]\u001b[0m Trial 90 finished with value: 0.372081381733021 and parameters: {'n_neighbors': 3, 'metric': 'euclidean'}. Best is trial 32 with value: 0.42220317646129757.\u001b[0m\n",
      "\u001b[32m[I 2024-03-04 10:38:50,653]\u001b[0m Trial 91 finished with value: 0.4057809190642773 and parameters: {'n_neighbors': 7, 'metric': 'minkowski'}. Best is trial 32 with value: 0.42220317646129757.\u001b[0m\n",
      "\u001b[32m[I 2024-03-04 10:38:53,448]\u001b[0m Trial 92 finished with value: 0.3884527909901044 and parameters: {'n_neighbors': 7, 'metric': 'minkowski'}. Best is trial 32 with value: 0.42220317646129757.\u001b[0m\n",
      "\u001b[32m[I 2024-03-04 10:38:56,217]\u001b[0m Trial 93 finished with value: 0.3967521635683845 and parameters: {'n_neighbors': 7, 'metric': 'minkowski'}. Best is trial 32 with value: 0.42220317646129757.\u001b[0m\n",
      "\u001b[32m[I 2024-03-04 10:38:59,003]\u001b[0m Trial 94 finished with value: 0.39853023131336457 and parameters: {'n_neighbors': 7, 'metric': 'minkowski'}. Best is trial 32 with value: 0.42220317646129757.\u001b[0m\n",
      "\u001b[32m[I 2024-03-04 10:39:01,877]\u001b[0m Trial 95 finished with value: 0.4025450403486456 and parameters: {'n_neighbors': 5, 'metric': 'minkowski'}. Best is trial 32 with value: 0.42220317646129757.\u001b[0m\n",
      "\u001b[32m[I 2024-03-04 10:39:04,677]\u001b[0m Trial 96 finished with value: 0.40194507322091066 and parameters: {'n_neighbors': 9, 'metric': 'minkowski'}. Best is trial 32 with value: 0.42220317646129757.\u001b[0m\n",
      "\u001b[32m[I 2024-03-04 10:39:07,400]\u001b[0m Trial 97 finished with value: 0.3530807754337166 and parameters: {'n_neighbors': 7, 'metric': 'manhattan'}. Best is trial 32 with value: 0.42220317646129757.\u001b[0m\n",
      "\u001b[32m[I 2024-03-04 10:39:10,223]\u001b[0m Trial 98 finished with value: 0.40718614397232356 and parameters: {'n_neighbors': 5, 'metric': 'minkowski'}. Best is trial 32 with value: 0.42220317646129757.\u001b[0m\n",
      "\u001b[32m[I 2024-03-04 10:39:13,038]\u001b[0m Trial 99 finished with value: 0.3908129564116841 and parameters: {'n_neighbors': 5, 'metric': 'minkowski'}. Best is trial 32 with value: 0.42220317646129757.\u001b[0m\n"
     ]
    },
    {
     "name": "stdout",
     "output_type": "stream",
     "text": [
      "Melhores parâmetros para KNN: {'n_neighbors': 7, 'metric': 'minkowski'}\n"
     ]
    }
   ],
   "source": [
    "best_params_knn = optimize_hyperparameters(df_x, df_y, 'KNN', n_trials=100)\n",
    "# best_params_svm = optimize_hyperparameters(df_x, df_y, 'SVM', n_trials=40)\n",
    "# best_params_randomforest = optimize_hyperparameters(df_x, df_y, 'RandomForest', n_trials=40)\n",
    "\n",
    "print(\"Melhores parâmetros para KNN:\", best_params_knn)\n",
    "# print(\"Melhores parâmetros para SVM:\", best_params_svm)\n",
    "# print(\"Melhores parâmetros para RandomForest:\", best_params_randomforest)"
   ]
  },
  {
   "cell_type": "code",
   "execution_count": 13,
   "metadata": {},
   "outputs": [
    {
     "data": {
      "text/plain": [
       "{'n_neighbors': 7, 'metric': 'minkowski'}"
      ]
     },
     "execution_count": 13,
     "metadata": {},
     "output_type": "execute_result"
    }
   ],
   "source": [
    "best_params_knn"
   ]
  },
  {
   "cell_type": "code",
   "execution_count": null,
   "metadata": {},
   "outputs": [],
   "source": []
  },
  {
   "cell_type": "code",
   "execution_count": null,
   "metadata": {},
   "outputs": [],
   "source": []
  },
  {
   "cell_type": "code",
   "execution_count": null,
   "metadata": {},
   "outputs": [],
   "source": []
  },
  {
   "cell_type": "code",
   "execution_count": null,
   "metadata": {},
   "outputs": [],
   "source": []
  },
  {
   "cell_type": "code",
   "execution_count": null,
   "metadata": {},
   "outputs": [],
   "source": []
  },
  {
   "cell_type": "code",
   "execution_count": null,
   "metadata": {},
   "outputs": [],
   "source": []
  },
  {
   "cell_type": "code",
   "execution_count": null,
   "metadata": {},
   "outputs": [],
   "source": []
  },
  {
   "cell_type": "code",
   "execution_count": null,
   "metadata": {},
   "outputs": [],
   "source": []
  },
  {
   "cell_type": "code",
   "execution_count": null,
   "metadata": {},
   "outputs": [],
   "source": []
  }
 ],
 "metadata": {
  "kernelspec": {
   "display_name": "Python 3",
   "language": "python",
   "name": "python3"
  },
  "language_info": {
   "codemirror_mode": {
    "name": "ipython",
    "version": 3
   },
   "file_extension": ".py",
   "mimetype": "text/x-python",
   "name": "python",
   "nbconvert_exporter": "python",
   "pygments_lexer": "ipython3",
   "version": "3.8.10"
  }
 },
 "nbformat": 4,
 "nbformat_minor": 2
}
